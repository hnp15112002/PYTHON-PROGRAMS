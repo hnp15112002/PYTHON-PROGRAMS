{
  "nbformat": 4,
  "nbformat_minor": 0,
  "metadata": {
    "colab": {
      "name": "Untitled2.ipynb",
      "provenance": []
    },
    "kernelspec": {
      "name": "python3",
      "display_name": "Python 3"
    },
    "language_info": {
      "name": "python"
    }
  },
  "cells": [
    {
      "cell_type": "markdown",
      "source": [
        "Write a python script that prints prime numbers less than 20."
      ],
      "metadata": {
        "id": "NW6vtTLG2vYn"
      }
    },
    {
      "cell_type": "code",
      "source": [
        "print(\"Prime numbers between 10 and 30 are:\")\n",
        "ulmt=30;\n",
        "for num in range(ulmt):\n",
        "   # prime numbers are greater than 1\n",
        "   if num > 1:\n",
        "       for i in range(2,num):\n",
        "           if (num % i) == 0:\n",
        "               break\n",
        "       else:\n",
        "           print(num)"
      ],
      "metadata": {
        "colab": {
          "base_uri": "https://localhost:8080/"
        },
        "id": "4rdCGTBk2vn3",
        "outputId": "cf01d16a-a48e-4e25-fcc1-e38f1471513a"
      },
      "execution_count": 22,
      "outputs": [
        {
          "output_type": "stream",
          "name": "stdout",
          "text": [
            "Prime numbers between 10 and 30 are:\n",
            "2\n",
            "3\n",
            "5\n",
            "7\n",
            "11\n",
            "13\n",
            "17\n",
            "19\n",
            "23\n",
            "29\n"
          ]
        }
      ]
    }
  ]
}