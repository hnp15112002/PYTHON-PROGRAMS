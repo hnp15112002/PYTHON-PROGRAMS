{
  "nbformat": 4,
  "nbformat_minor": 0,
  "metadata": {
    "colab": {
      "name": "Untitled2.ipynb",
      "provenance": []
    },
    "kernelspec": {
      "name": "python3",
      "display_name": "Python 3"
    },
    "language_info": {
      "name": "python"
    }
  },
  "cells": [
    {
      "cell_type": "markdown",
      "source": [
        "Write a program to demonstrate working with dictionaries in python."
      ],
      "metadata": {
        "id": "_VrPmsyPw-9i"
      }
    },
    {
      "cell_type": "code",
      "source": [
        "dict1 = {'StdNo':'498','StuName': 'harshal', 'StuAge': 19, 'StuCity': 'pune'}\n",
        "print(\"\\n Dictionary is :\",dict1)\n",
        "#Accessing specific values \n",
        "print(\"\\n Student Name is :\",dict1['StuName'])\n",
        "print(\"\\n Student City is :\",dict1['StuCity'])\n",
        "#Display all Keys\n",
        "print(\"\\n All Keys in Dictionary \")\n",
        "for x in dict1:\n",
        "    print(x)\n",
        "#Display all values\n",
        "print(\"\\n All Values in Dictionary \")\n",
        "for x in dict1:\n",
        "    print(dict1[x])\n",
        "#Adding items\n",
        "dict1[\"Phno\"]=9439583748\n",
        "#Updated dictoinary\n",
        "print(\"\\n Uadated Dictionary is :\",dict1)\n",
        "#Change values\n",
        "dict1[\"StuName\"]=\"Madhu\"\n",
        "#Updated dictoinary\n",
        "print(\"\\n Uadated Dictionary is :\",dict1)\n",
        "#Removing Items\n",
        "dict1.pop(\"StuAge\");\n",
        "#Updated dictoinary\n",
        "print(\"\\n Uadated Dictionary is :\",dict1)\n",
        "#Length of Dictionary\n",
        "print(\"Length of Dictionary is :\",len(dict1))\n",
        "#Copy a Dictionary\n",
        "dict2=dict1.copy()\n",
        "#New dictoinary\n",
        "print(\"\\n New Dictionary is :\",dict2)\n",
        "#empties the dictionary\n",
        "dict1.clear()\n",
        "print(\"\\n Uadated Dictionary is :\",dict1)"
      ],
      "metadata": {
        "colab": {
          "base_uri": "https://localhost:8080/"
        },
        "id": "MkLDUE-Dw_LH",
        "outputId": "c2507054-8e4e-4deb-97ef-29ec43761fd1"
      },
      "execution_count": 18,
      "outputs": [
        {
          "output_type": "stream",
          "name": "stdout",
          "text": [
            "\n",
            " Dictionary is : {'StdNo': '498', 'StuName': 'harshal', 'StuAge': 19, 'StuCity': 'pune'}\n",
            "\n",
            " Student Name is : harshal\n",
            "\n",
            " Student City is : pune\n",
            "\n",
            " All Keys in Dictionary \n",
            "StdNo\n",
            "StuName\n",
            "StuAge\n",
            "StuCity\n",
            "\n",
            " All Values in Dictionary \n",
            "498\n",
            "harshal\n",
            "19\n",
            "pune\n",
            "\n",
            " Uadated Dictionary is : {'StdNo': '498', 'StuName': 'harshal', 'StuAge': 19, 'StuCity': 'pune', 'Phno': 9439583748}\n",
            "\n",
            " Uadated Dictionary is : {'StdNo': '498', 'StuName': 'Madhu', 'StuAge': 19, 'StuCity': 'pune', 'Phno': 9439583748}\n",
            "\n",
            " Uadated Dictionary is : {'StdNo': '498', 'StuName': 'Madhu', 'StuCity': 'pune', 'Phno': 9439583748}\n",
            "Length of Dictionary is : 4\n",
            "\n",
            " New Dictionary is : {'StdNo': '498', 'StuName': 'Madhu', 'StuCity': 'pune', 'Phno': 9439583748}\n",
            "\n",
            " Uadated Dictionary is : {}\n"
          ]
        }
      ]
    }
  ]
}