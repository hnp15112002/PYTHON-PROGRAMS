{
  "nbformat": 4,
  "nbformat_minor": 0,
  "metadata": {
    "colab": {
      "name": "Untitled0.ipynb",
      "provenance": [],
      "collapsed_sections": []
    },
    "kernelspec": {
      "name": "python3",
      "display_name": "Python 3"
    },
    "language_info": {
      "name": "python"
    }
  },
  "cells": [
    {
      "cell_type": "code",
      "execution_count": 27,
      "metadata": {
        "id": "YRo6w5QnjxgW"
      },
      "outputs": [],
      "source": [
        ""
      ]
    },
    {
      "cell_type": "markdown",
      "source": [
        "Write a Program to Demonstrate different number data types in python. "
      ],
      "metadata": {
        "id": "UBSABjB-jypK"
      }
    },
    {
      "cell_type": "code",
      "source": [
        "m = \"Hello google\"\n",
        "\n",
        "#display m:\n",
        "print(m)\n",
        "\n",
        "#display the data type of m:\n",
        "print(type(m)) \n"
      ],
      "metadata": {
        "colab": {
          "base_uri": "https://localhost:8080/"
        },
        "id": "d3uCTpqXkZcu",
        "outputId": "a1d3e283-937e-4b0b-92ff-c1908dfd97db"
      },
      "execution_count": null,
      "outputs": [
        {
          "output_type": "stream",
          "name": "stdout",
          "text": [
            "Hello google\n",
            "<class 'str'>\n"
          ]
        }
      ]
    },
    {
      "cell_type": "code",
      "source": [
        "t = 364\n",
        "\n",
        "#display t:\n",
        "print(t)\n",
        "\n",
        "#display the data type of t:\n",
        "print(type(t)) \n"
      ],
      "metadata": {
        "colab": {
          "base_uri": "https://localhost:8080/"
        },
        "id": "BI1DqFezlHge",
        "outputId": "08ceff8e-6d59-46d6-f1fe-ae1852147979"
      },
      "execution_count": null,
      "outputs": [
        {
          "output_type": "stream",
          "name": "stdout",
          "text": [
            "364\n",
            "<class 'int'>\n"
          ]
        }
      ]
    },
    {
      "cell_type": "code",
      "source": [
        "w = 80.56\n",
        "\n",
        "#display x:\n",
        "print(w)\n",
        "\n",
        "#display the data type of w:\n",
        "print(type(w)) "
      ],
      "metadata": {
        "colab": {
          "base_uri": "https://localhost:8080/"
        },
        "id": "GuNSP27Sljav",
        "outputId": "147d9140-3af9-49de-8205-2263b1b0d725"
      },
      "execution_count": null,
      "outputs": [
        {
          "output_type": "stream",
          "name": "stdout",
          "text": [
            "80.56\n",
            "<class 'float'>\n"
          ]
        }
      ]
    },
    {
      "cell_type": "code",
      "source": [
        "h = 9j\n",
        "\n",
        "#display h:\n",
        "print(h)\n",
        "\n",
        "#display the data type of h:\n",
        "print(type(h)) "
      ],
      "metadata": {
        "colab": {
          "base_uri": "https://localhost:8080/"
        },
        "id": "qakkMNGal13-",
        "outputId": "f8d75943-f4b2-4cf5-d714-488c62cc322c"
      },
      "execution_count": null,
      "outputs": [
        {
          "output_type": "stream",
          "name": "stdout",
          "text": [
            "9j\n",
            "<class 'complex'>\n"
          ]
        }
      ]
    },
    {
      "cell_type": "code",
      "source": [
        "p = [\"watch\", \"pen\", \"notebook\"]\n",
        "\n",
        "#display p:\n",
        "print(p)\n",
        "\n",
        "#display the data type of p:\n",
        "print(type(p)) "
      ],
      "metadata": {
        "colab": {
          "base_uri": "https://localhost:8080/"
        },
        "id": "2XEcxsA5mZxU",
        "outputId": "679b1787-d103-4a8a-85a8-fff6e79f9115"
      },
      "execution_count": null,
      "outputs": [
        {
          "output_type": "stream",
          "name": "stdout",
          "text": [
            "['watch', 'pen', 'notebook']\n",
            "<class 'list'>\n"
          ]
        }
      ]
    },
    {
      "cell_type": "code",
      "source": [
        "x = (\"mobile\", \"computer\", \"tv\")\n",
        "\n",
        "#display x:\n",
        "print(x)\n",
        "\n",
        "#display the data type of x:\n",
        "print(type(x)) \n"
      ],
      "metadata": {
        "colab": {
          "base_uri": "https://localhost:8080/"
        },
        "id": "BEAPbOl5m08v",
        "outputId": "4c51f036-343e-4d78-9cf8-a84b00ad446e"
      },
      "execution_count": null,
      "outputs": [
        {
          "output_type": "stream",
          "name": "stdout",
          "text": [
            "('mobile', 'computer', 'tv')\n",
            "<class 'tuple'>\n"
          ]
        }
      ]
    },
    {
      "cell_type": "code",
      "source": [
        "x = range(9)\n",
        "\n",
        "#display x:\n",
        "print(x)\n",
        "\n",
        "#display the data type of x:\n",
        "print(type(x)) "
      ],
      "metadata": {
        "colab": {
          "base_uri": "https://localhost:8080/"
        },
        "id": "QzS38WabnTPu",
        "outputId": "07158728-eb8d-454d-b9de-f7a1823481e1"
      },
      "execution_count": null,
      "outputs": [
        {
          "output_type": "stream",
          "name": "stdout",
          "text": [
            "range(0, 9)\n",
            "<class 'range'>\n"
          ]
        }
      ]
    },
    {
      "cell_type": "code",
      "source": [
        "x = {\"NAME\" : \"HARSHAL\", \"AGE\" : 20}\n",
        "\n",
        "#display x:\n",
        "print(x)\n",
        "\n",
        "#display the data type of x:\n",
        "print(type(x)) \n"
      ],
      "metadata": {
        "colab": {
          "base_uri": "https://localhost:8080/"
        },
        "id": "aae24ooPnmKf",
        "outputId": "93aee8ca-817b-41d2-d726-dc4ca551a69a"
      },
      "execution_count": null,
      "outputs": [
        {
          "output_type": "stream",
          "name": "stdout",
          "text": [
            "{'NAME': 'HARSHAL', 'AGE': 20}\n",
            "<class 'dict'>\n"
          ]
        }
      ]
    },
    {
      "cell_type": "code",
      "source": [
        "x = {\"mango\", \"graps\", \"orange\"}\n",
        "\n",
        "#display x:\n",
        "print(x)\n",
        "\n",
        "#display the data type of x:\n",
        "print(type(x)) "
      ],
      "metadata": {
        "colab": {
          "base_uri": "https://localhost:8080/"
        },
        "id": "EEPnWBHHn4OJ",
        "outputId": "9e624c5f-35b5-4697-a2fc-160cb5e1b5fc"
      },
      "execution_count": null,
      "outputs": [
        {
          "output_type": "stream",
          "name": "stdout",
          "text": [
            "{'graps', 'orange', 'mango'}\n",
            "<class 'set'>\n"
          ]
        }
      ]
    },
    {
      "cell_type": "code",
      "source": [
        "x = frozenset({\"mango\", \"orange\", \"graps\"})\n",
        "\n",
        "#display x:\n",
        "print(x)\n",
        "\n",
        "#display the data type of x:\n",
        "print(type(x)) "
      ],
      "metadata": {
        "colab": {
          "base_uri": "https://localhost:8080/"
        },
        "id": "40FBgsv_n7ht",
        "outputId": "e7af2b9e-b2ec-4d84-f97f-2df2ff154c25"
      },
      "execution_count": null,
      "outputs": [
        {
          "output_type": "stream",
          "name": "stdout",
          "text": [
            "frozenset({'graps', 'orange', 'mango'})\n",
            "<class 'frozenset'>\n"
          ]
        }
      ]
    },
    {
      "cell_type": "code",
      "source": [
        "u = True\n",
        "\n",
        "#display u:\n",
        "print(u)\n",
        "\n",
        "#display the data type of u:\n",
        "print(type(u)) \n"
      ],
      "metadata": {
        "colab": {
          "base_uri": "https://localhost:8080/"
        },
        "id": "G2x2pxdooN2h",
        "outputId": "f8dbe2b2-c2d6-438d-b832-658f5d76a444"
      },
      "execution_count": null,
      "outputs": [
        {
          "output_type": "stream",
          "name": "stdout",
          "text": [
            "True\n",
            "<class 'bool'>\n"
          ]
        }
      ]
    },
    {
      "cell_type": "code",
      "source": [
        "x = b\"Nice\"\n",
        "\n",
        "#display x:\n",
        "print(x)\n",
        "\n",
        "#display the data type of x:\n",
        "print(type(x)) \n"
      ],
      "metadata": {
        "colab": {
          "base_uri": "https://localhost:8080/"
        },
        "id": "qvcSFaXuowlt",
        "outputId": "e4761b5c-d3e5-4008-be16-5e30726f31f2"
      },
      "execution_count": null,
      "outputs": [
        {
          "output_type": "stream",
          "name": "stdout",
          "text": [
            "b'Nice'\n",
            "<class 'bytes'>\n"
          ]
        }
      ]
    },
    {
      "cell_type": "code",
      "source": [
        "x = bytearray(8)\n",
        "\n",
        "#display x:\n",
        "print(x)\n",
        "\n",
        "#display the data type of x:\n",
        "print(type(x)) \n"
      ],
      "metadata": {
        "colab": {
          "base_uri": "https://localhost:8080/"
        },
        "id": "pjup4YYDo_UO",
        "outputId": "306919d7-de32-4d80-9f08-f5c60d635761"
      },
      "execution_count": null,
      "outputs": [
        {
          "output_type": "stream",
          "name": "stdout",
          "text": [
            "bytearray(b'\\x00\\x00\\x00\\x00\\x00\\x00\\x00\\x00')\n",
            "<class 'bytearray'>\n"
          ]
        }
      ]
    },
    {
      "cell_type": "code",
      "source": [
        "x = memoryview(bytes(8))\n",
        "\n",
        "#display x:\n",
        "print(x)\n",
        "\n",
        "#display the data type of x:\n",
        "print(type(x))"
      ],
      "metadata": {
        "colab": {
          "base_uri": "https://localhost:8080/"
        },
        "id": "Z2wY2-YQpVDn",
        "outputId": "8c07a56b-163a-48c2-e2fc-92ebd9b5ae13"
      },
      "execution_count": null,
      "outputs": [
        {
          "output_type": "stream",
          "name": "stdout",
          "text": [
            "<memory at 0x7f0d272602c0>\n",
            "<class 'memoryview'>\n"
          ]
        }
      ]
    }
  ]
}