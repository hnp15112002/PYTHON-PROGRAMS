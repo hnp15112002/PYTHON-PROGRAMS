{
  "nbformat": 4,
  "nbformat_minor": 0,
  "metadata": {
    "colab": {
      "name": "Untitled2.ipynb",
      "provenance": []
    },
    "kernelspec": {
      "name": "python3",
      "display_name": "Python 3"
    },
    "language_info": {
      "name": "python"
    }
  },
  "cells": [
    {
      "cell_type": "markdown",
      "source": [
        "Write a program to demonstrate working with tuples in python."
      ],
      "metadata": {
        "id": "WmwxAdrpsviA"
      }
    },
    {
      "cell_type": "code",
      "source": [
        "#Tuples are written with round brackets.\n",
        "thistuple = (\"MANISH\", \"AKSHAY\", \"GAURAV\", \"HARSHAL\")\n",
        "print(thistuple)\n",
        "\n",
        "#Tuples allow duplicate values:\n",
        "thistuple = (\"Amalner\", \"Shirpur\", \"Pune\", \"Jalgoan\",\"Dhule\", \"Nashik\")\n",
        "print(thistuple)\n",
        "\n",
        "#Tuple Length\n",
        "thistuple = tuple((\"audi\", \"tata\", \"honda\", \"kia\"))\n",
        "print(len(thistuple))\n",
        "\n",
        "#Create Tuple With One Item\n",
        "thistuple = (\"honda\",)\n",
        "print(type(thistuple))\n",
        "\n",
        "#NOT a tuple\n",
        "thistuple = (\"tesla\")\n",
        "print(type(thistuple))\n",
        "\n",
        "#Tuple Items - Data Types\n",
        "\n",
        "tuple1 = (\"audi\", \"tata\", \"tesla\", \"kia\")\n",
        "tuple2 = (2, 0, 4, 8, 7)\n",
        "tuple3 = (True, False, False)\n",
        "\n",
        "\n",
        "print(tuple1)\n",
        "print(tuple2)\n",
        "print(tuple3)\n",
        "\n",
        "#A tuple with strings, integers and boolean values:\n",
        "tuple1 = (\"rcpit\", 20, True, 40, \"human\")\n",
        "\n",
        "print(tuple1)\n",
        "\n",
        " #tuples are defined as objects with the data type 'tuple'\n",
        "mytuple = (\"audi\", \"tata\", \"tesla\",)\n",
        "\n",
        "print(type(mytuple))"
      ],
      "metadata": {
        "colab": {
          "base_uri": "https://localhost:8080/"
        },
        "id": "Ya6R4EpNsvus",
        "outputId": "7882b2dc-f8a8-4cfa-8b8c-9f01f95afda1"
      },
      "execution_count": 15,
      "outputs": [
        {
          "output_type": "stream",
          "name": "stdout",
          "text": [
            "('MANISH', 'AKSHAY', 'GAURAV', 'HARSHAL')\n",
            "('Amalner', 'Shirpur', 'Pune', 'Jalgoan', 'Dhule', 'Nashik')\n",
            "4\n",
            "<class 'tuple'>\n",
            "<class 'str'>\n",
            "('audi', 'tata', 'tesla', 'kia')\n",
            "(2, 0, 4, 8, 7)\n",
            "(True, False, False)\n",
            "('rcpit', 20, True, 40, 'human')\n",
            "<class 'tuple'>\n"
          ]
        }
      ]
    }
  ]
}