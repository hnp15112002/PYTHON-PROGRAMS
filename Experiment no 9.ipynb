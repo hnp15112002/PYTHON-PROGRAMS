{
  "nbformat": 4,
  "nbformat_minor": 0,
  "metadata": {
    "colab": {
      "name": "Untitled2.ipynb",
      "provenance": []
    },
    "kernelspec": {
      "name": "python3",
      "display_name": "Python 3"
    },
    "language_info": {
      "name": "python"
    }
  },
  "cells": [
    {
      "cell_type": "markdown",
      "source": [
        "Write a python program to convert temperatures to and from Celsius, Fahrenneit"
      ],
      "metadata": {
        "id": "ctkgv4Fi0U6-"
      }
    },
    {
      "cell_type": "code",
      "source": [
        "print(\"Options are \\n\")\n",
        "print(\"1.Convert temperatures from Celsius to Fahrenheit \\n\")\n",
        "print(\"2.Convert temperatures from Fahrenheit to Celsius \\n\")\n",
        "opt=int(input(\"Choose any Option(1 or 2) : \"))\n",
        "if opt == 1:\n",
        "    print(\"Convert temperatures from Celsius to Fahrenheit \\n\")\n",
        "    cel = float(input(\"Enter Temperature in Celsius: \"))\n",
        "    fahr = (cel*9/5)+32\n",
        "    print(\"Temperature in Fahrenheit =\",fahr)\n",
        "elif opt == 2:\n",
        "    print(\"Convert temperatures from Fahrenheit to Celsius \\n\")\n",
        "    fahr = float(input(\"Enter Temperature in Fahrenheit: \"))\n",
        "    cel=(fahr-32)*5/9;\n",
        "    print(\"Temperature in Celsius =\",cel)\n",
        "else:\n",
        "    print(\"Invalid Option\")"
      ],
      "metadata": {
        "colab": {
          "base_uri": "https://localhost:8080/"
        },
        "id": "2ytOfJJE0V1j",
        "outputId": "60e76fca-5eff-4f1a-bd6c-03879991a23e"
      },
      "execution_count": 20,
      "outputs": [
        {
          "output_type": "stream",
          "name": "stdout",
          "text": [
            "Options are \n",
            "\n",
            "1.Convert temperatures from Celsius to Fahrenheit \n",
            "\n",
            "2.Convert temperatures from Fahrenheit to Celsius \n",
            "\n",
            "Choose any Option(1 or 2) : 1\n",
            "Convert temperatures from Celsius to Fahrenheit \n",
            "\n",
            "Enter Temperature in Celsius: 34\n",
            "Temperature in Fahrenheit = 93.2\n"
          ]
        }
      ]
    }
  ]
}