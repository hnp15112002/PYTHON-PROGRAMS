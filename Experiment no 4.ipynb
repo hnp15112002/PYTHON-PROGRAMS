{
  "nbformat": 4,
  "nbformat_minor": 0,
  "metadata": {
    "colab": {
      "name": "Untitled2.ipynb",
      "provenance": []
    },
    "kernelspec": {
      "name": "python3",
      "display_name": "Python 3"
    },
    "language_info": {
      "name": "python"
    }
  },
  "cells": [
    {
      "cell_type": "markdown",
      "source": [
        "Write a program to create, concatenate and print a string and accessing sub-string from a given string"
      ],
      "metadata": {
        "id": "sa3d-u58kgw3"
      }
    },
    {
      "cell_type": "code",
      "source": [
        "s1=input(\"Enter first String : \");\n",
        "s2=input(\"Enter second String : \");\n",
        "print(\"First string is : \",s1);\n",
        "print(\"Second string is : \",s2);\n",
        "print(\"concatenations of two strings :\",s2*2)\n",
        "print(\"Hello\"+\" \"+\"Goggle\")\n",
        "s3=s1[0]*2\n",
        "print(\"Substring of given string :\",s3);\n",
        "s4=s1[-4:-2]\n",
        "print(s4)\n",
        "len(s1)"
      ],
      "metadata": {
        "colab": {
          "base_uri": "https://localhost:8080/"
        },
        "id": "88KLjFE_jezz",
        "outputId": "4f2a0314-14ae-4ab8-a7e1-3eda71f3bb45"
      },
      "execution_count": 6,
      "outputs": [
        {
          "output_type": "stream",
          "name": "stdout",
          "text": [
            "Enter first String : HEllo\n",
            "Enter second String : Goggle\n",
            "First string is :  HEllo\n",
            "Second string is :  Goggle\n",
            "concatenations of two strings : GoggleGoggle\n",
            "Hello Goggle\n",
            "Substring of given string : HH\n",
            "El\n"
          ]
        },
        {
          "output_type": "execute_result",
          "data": {
            "text/plain": [
              "5"
            ]
          },
          "metadata": {},
          "execution_count": 6
        }
      ]
    }
  ]
}