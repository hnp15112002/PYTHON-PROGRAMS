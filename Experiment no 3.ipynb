{
  "nbformat": 4,
  "nbformat_minor": 0,
  "metadata": {
    "colab": {
      "name": "Untitled2.ipynb",
      "provenance": []
    },
    "kernelspec": {
      "name": "python3",
      "display_name": "Python 3"
    },
    "language_info": {
      "name": "python"
    }
  },
  "cells": [
    {
      "cell_type": "markdown",
      "source": [
        "Write a programe to perform different Arithmatic Operations on number in python."
      ],
      "metadata": {
        "id": "1r9KvVG4iEqK"
      }
    },
    {
      "cell_type": "code",
      "source": [
        "a = 7\n",
        "b = 3\n",
        "\n",
        "print(a+b)\n",
        "\n",
        "\n",
        "a = 6\n",
        "b = 4\n",
        "\n",
        "print(a-b)\n",
        "\n",
        "\n",
        "a = 2\n",
        "b = 9\n",
        "\n",
        "print(a * b)\n",
        "\n",
        "a= 15\n",
        "b = 5\n",
        "\n",
        "print(a / b)\n",
        "\n",
        "a = 9\n",
        "b = 3\n",
        "\n",
        "print(a % b)\n",
        "\n",
        "a= 9\n",
        "b= 3\n",
        "\n",
        "print(a ** b) \n",
        "\n",
        "a = 36\n",
        "b = 9\n",
        "\n",
        "print(a // b)\n",
        "\n",
        "#the floor division // rounds the result down to the nearest whole number"
      ],
      "metadata": {
        "colab": {
          "base_uri": "https://localhost:8080/"
        },
        "id": "UM9PvqAxiFN_",
        "outputId": "a7df159c-1c23-42be-b7bf-382dcf0580b2"
      },
      "execution_count": 2,
      "outputs": [
        {
          "output_type": "stream",
          "name": "stdout",
          "text": [
            "10\n",
            "2\n",
            "18\n",
            "3.0\n",
            "0\n",
            "729\n",
            "4\n"
          ]
        }
      ]
    }
  ]
}