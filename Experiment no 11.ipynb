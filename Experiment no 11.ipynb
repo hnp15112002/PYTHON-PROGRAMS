{
  "nbformat": 4,
  "nbformat_minor": 0,
  "metadata": {
    "colab": {
      "name": "Untitled2.ipynb",
      "provenance": []
    },
    "kernelspec": {
      "name": "python3",
      "display_name": "Python 3"
    },
    "language_info": {
      "name": "python"
    }
  },
  "cells": [
    {
      "cell_type": "markdown",
      "source": [
        "Write a python program using numpy to sort the elements in the given array."
      ],
      "metadata": {
        "id": "3ydsICZN3Tjh"
      }
    },
    {
      "cell_type": "code",
      "source": [
        "import numpy as np\n",
        "nums =  np.random.rand(10)\n",
        "print(\"Original array:\")\n",
        "print(nums)\n",
        "print(\"\\nSorted first 5 elements:\")\n",
        "print(nums[np.argpartition(nums,range(8))])"
      ],
      "metadata": {
        "colab": {
          "base_uri": "https://localhost:8080/"
        },
        "id": "yx18zhif33L_",
        "outputId": "84507c06-a358-401a-fadf-0537705400e1"
      },
      "execution_count": 28,
      "outputs": [
        {
          "output_type": "stream",
          "name": "stdout",
          "text": [
            "Original array:\n",
            "[0.32331187 0.83241452 0.10697314 0.90869149 0.82282089 0.14710072\n",
            " 0.59325322 0.02991477 0.01062692 0.65876118]\n",
            "\n",
            "Sorted first 5 elements:\n",
            "[0.01062692 0.02991477 0.10697314 0.14710072 0.32331187 0.59325322\n",
            " 0.65876118 0.82282089 0.83241452 0.90869149]\n"
          ]
        }
      ]
    }
  ]
}