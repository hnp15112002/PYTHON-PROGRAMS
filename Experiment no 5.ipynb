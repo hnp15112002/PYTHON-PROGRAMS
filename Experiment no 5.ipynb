{
  "nbformat": 4,
  "nbformat_minor": 0,
  "metadata": {
    "colab": {
      "name": "Untitled2.ipynb",
      "provenance": []
    },
    "kernelspec": {
      "name": "python3",
      "display_name": "Python 3"
    },
    "language_info": {
      "name": "python"
    }
  },
  "cells": [
    {
      "cell_type": "markdown",
      "source": [
        "Write a program to create, append, and remove lists in python."
      ],
      "metadata": {
        "id": "Ni0fTTsNpNZU"
      }
    },
    {
      "cell_type": "code",
      "source": [
        "#Using the append() method to append\n",
        "thislist = [\"asus\", \"iphone\", \"oneplus\"]\n",
        "\n",
        "thislist.append(\"iphone\")\n",
        "\n",
        "print(thislist)\n",
        "\n",
        "#The remove() method removes the specified item.\n",
        "thislist = [\"vivo\", \"redmi\", \"dell\", \"lenovo\"]\n",
        "thislist.remove(\"dell\")\n",
        "print(thislist)\n",
        "\n",
        "#Remove Specified Index\n",
        "thislist = [\"apple\", \"mango\", \"banana\", \"watermelon\"]\n",
        "thislist.pop(2)\n",
        "print(thislist)\n",
        "\n",
        "#the pop() method removes the last item\n",
        "thislist = [\"watch\", \"charger\", \"laptop\"]\n",
        "thislist.pop(1)\n",
        "print(thislist)\n",
        "\n",
        "#del keyword also removes the specified index\n",
        "thislist = [\"lemon\", \"orange\", \"mango\"]\n",
        "del thislist[2]\n",
        "print(thislist)\n",
        "\n",
        "\n",
        "#Clear the list content:\n",
        "thislist = [\"asus\", \"lenovo\", \"apple\", \"oppo\"]\n",
        "thislist.clear()\n",
        "print(thislist)"
      ],
      "metadata": {
        "colab": {
          "base_uri": "https://localhost:8080/"
        },
        "id": "CHHGemuhpNqG",
        "outputId": "6f5fab7b-2782-4bfa-8831-8b6b8ad57e5a"
      },
      "execution_count": 12,
      "outputs": [
        {
          "output_type": "stream",
          "name": "stdout",
          "text": [
            "['asus', 'iphone', 'oneplus', 'iphone']\n",
            "['vivo', 'redmi', 'lenovo']\n",
            "['apple', 'mango', 'watermelon']\n",
            "['watch', 'laptop']\n",
            "['lemon', 'orange']\n",
            "[]\n"
          ]
        }
      ]
    }
  ]
}