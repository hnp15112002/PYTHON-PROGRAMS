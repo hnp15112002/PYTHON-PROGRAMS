{
  "nbformat": 4,
  "nbformat_minor": 0,
  "metadata": {
    "colab": {
      "name": "Untitled2.ipynb",
      "provenance": []
    },
    "kernelspec": {
      "name": "python3",
      "display_name": "Python 3"
    },
    "language_info": {
      "name": "python"
    }
  },
  "cells": [
    {
      "cell_type": "markdown",
      "source": [
        "Write a Pandas program to create and display a DataFrame from a specified dictionary data which has the index labels."
      ],
      "metadata": {
        "id": "jP3YDacF4RF8"
      }
    },
    {
      "cell_type": "code",
      "source": [
        "import pandas as pd\n",
        "import numpy as np\n",
        "\n",
        "exam_data  = {'name': ['kohli', 'dhawan', 'rahul', 'decock', 'pandya', 'rohit', 'manish', 'ankit', 'harshal', 'jayesh'],\n",
        "        'score': [12.5, 9, 16.5, np.nan, 9, 20, 14.5, np.nan, 88, 19],\n",
        "        'attempts': [1, 3, 4, 3, 2, 3, 6, 1, 1, 9],\n",
        "        'qualify': ['yes', 'no', 'no', 'no', 'yes', 'yes', 'yes', 'no', 'yes', 'yes']}\n",
        "labels = ['A', 'B', 'C', 'D', 'E', 'F', 'G', 'H', 'I', 'J']\n",
        "\n",
        "df = pd.DataFrame(exam_data , index=labels)\n",
        "print(df)"
      ],
      "metadata": {
        "colab": {
          "base_uri": "https://localhost:8080/"
        },
        "id": "zF4twTCl4RZH",
        "outputId": "2795559e-db7a-45cc-ecc0-f061a2786260"
      },
      "execution_count": 31,
      "outputs": [
        {
          "output_type": "stream",
          "name": "stdout",
          "text": [
            "      name  score  attempts qualify\n",
            "A    kohli   12.5         1     yes\n",
            "B   dhawan    9.0         3      no\n",
            "C    rahul   16.5         4      no\n",
            "D   decock    NaN         3      no\n",
            "E   pandya    9.0         2     yes\n",
            "F    rohit   20.0         3     yes\n",
            "G   manish   14.5         6     yes\n",
            "H    ankit    NaN         1      no\n",
            "I  harshal   88.0         1     yes\n",
            "J   jayesh   19.0         9     yes\n"
          ]
        }
      ]
    }
  ]
}